{
  "nbformat": 4,
  "nbformat_minor": 0,
  "metadata": {
    "colab": {
      "provenance": [],
      "authorship_tag": "ABX9TyM2ZNIaq8btsA8PX7CAg/GS",
      "include_colab_link": true
    },
    "kernelspec": {
      "name": "python3",
      "display_name": "Python 3"
    },
    "language_info": {
      "name": "python"
    }
  },
  "cells": [
    {
      "cell_type": "markdown",
      "metadata": {
        "id": "view-in-github",
        "colab_type": "text"
      },
      "source": [
        "<a href=\"https://colab.research.google.com/github/Shrutichauha7/McDonalds-case-study/blob/main/MCdonalddatapreprocessing.ipynb\" target=\"_parent\"><img src=\"https://colab.research.google.com/assets/colab-badge.svg\" alt=\"Open In Colab\"/></a>"
      ]
    },
    {
      "cell_type": "code",
      "source": [
        "import pandas as pd\n",
        "from sklearn.preprocessing import LabelEncoder, StandardScaler, OrdinalEncoder\n",
        "from sklearn.model_selection import train_test_split"
      ],
      "metadata": {
        "id": "_UV-qJGKBvX_"
      },
      "execution_count": null,
      "outputs": []
    },
    {
      "cell_type": "code",
      "source": [
        "# Load dataset\n",
        "df = pd.read_csv(\"/content/McDonalds Case Study-20250326T083132Z-001 (2).zip\")"
      ],
      "metadata": {
        "id": "PQB1dVeAB5as"
      },
      "execution_count": null,
      "outputs": []
    },
    {
      "cell_type": "code",
      "source": [
        "# 1. Encode binary categorical variables (Yes/No) as 1/0\n",
        "binary_cols = ['yummy', 'convenient', 'spicy', 'fattening', 'greasy',\n",
        "               'fast', 'cheap', 'tasty', 'expensive', 'healthy', 'disgusting']\n",
        "df[binary_cols] = df[binary_cols].apply(lambda x: x.map({'Yes': 1, 'No': 0}))"
      ],
      "metadata": {
        "id": "1dojo-9iCCl3"
      },
      "execution_count": null,
      "outputs": []
    },
    {
      "cell_type": "code",
      "source": [
        "# 2. Encode 'Gender' using Label Encoding\n",
        "df['Gender'] = LabelEncoder().fit_transform(df['Gender'])  # Female=0, Male=1\n"
      ],
      "metadata": {
        "id": "R3Z42R7FDrGh"
      },
      "execution_count": null,
      "outputs": []
    },
    {
      "cell_type": "code",
      "source": [
        "from sklearn.preprocessing import OrdinalEncoder\n",
        "\n",
        "# Ensure no leading/trailing spaces\n",
        "df['VisitFrequency'] = df['VisitFrequency'].str.strip()\n",
        "df['Like'] = df['Like'].str.strip()\n",
        "\n",
        "# Final cleaned category lists\n",
        "visit_order = ['Never', 'Once a year', 'Every three months', 'Once a month', 'Once a week', 'More than once a week']\n",
        "like_order = ['I hate it!-5', '-4', '-3', '-2', '-1', '0', '+1', '+2', '+3', '+4', 'I love it!+5']\n",
        "\n",
        "# Apply encoding\n",
        "encoder_vf = OrdinalEncoder(categories=[visit_order])\n",
        "encoder_like = OrdinalEncoder(categories=[like_order])\n",
        "\n",
        "df['VisitFrequency'] = encoder_vf.fit_transform(df[['VisitFrequency']])\n",
        "df['Like'] = encoder_like.fit_transform(df[['Like']])\n"
      ],
      "metadata": {
        "id": "6W84luxWEkKB"
      },
      "execution_count": null,
      "outputs": []
    },
    {
      "cell_type": "code",
      "source": [
        "# 4. Scale the 'Age' column\n",
        "scaler = StandardScaler()\n",
        "df['Age'] = scaler.fit_transform(df[['Age']])\n"
      ],
      "metadata": {
        "id": "2Lk6poBkDuOU"
      },
      "execution_count": null,
      "outputs": []
    },
    {
      "cell_type": "code",
      "source": [
        "# 5. Check for missing values (optional since dataset is complete)\n",
        "assert df.isnull().sum().sum() == 0, \"Missing values found!\""
      ],
      "metadata": {
        "id": "RvEPDnt7DyPC"
      },
      "execution_count": null,
      "outputs": []
    }
  ]
}